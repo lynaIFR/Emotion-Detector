{
 "cells": [
  {
   "cell_type": "markdown",
   "metadata": {},
   "source": [
    "Test if jupyter notebook is runing on GPU"
   ]
  },
  {
   "cell_type": "code",
   "execution_count": 1,
   "metadata": {},
   "outputs": [
    {
     "name": "stdout",
     "output_type": "stream",
     "text": [
      "Num GPUs Available:  1\n"
     ]
    }
   ],
   "source": [
    "import tensorflow as tf\n",
    "print(\"Num GPUs Available: \", len(tf.config.list_physical_devices('GPU')))"
   ]
  },
  {
   "cell_type": "markdown",
   "metadata": {
    "id": "McXmGTgGHnyb"
   },
   "source": [
    "**Importer les bibs**"
   ]
  },
  {
   "cell_type": "code",
   "execution_count": 1,
   "metadata": {
    "id": "4e9Jk-djVK3i"
   },
   "outputs": [
    {
     "ename": "ModuleNotFoundError",
     "evalue": "No module named 'matplotlib'",
     "output_type": "error",
     "traceback": [
      "\u001b[1;31m---------------------------------------------------------------------------\u001b[0m",
      "\u001b[1;31mModuleNotFoundError\u001b[0m                       Traceback (most recent call last)",
      "Input \u001b[1;32mIn [1]\u001b[0m, in \u001b[0;36m<cell line: 4>\u001b[1;34m()\u001b[0m\n\u001b[0;32m      2\u001b[0m \u001b[38;5;28;01mimport\u001b[39;00m \u001b[38;5;21;01mtensorflow_hub\u001b[39;00m \u001b[38;5;28;01mas\u001b[39;00m \u001b[38;5;21;01mhub\u001b[39;00m\n\u001b[0;32m      3\u001b[0m \u001b[38;5;28;01mfrom\u001b[39;00m \u001b[38;5;21;01mtensorflow\u001b[39;00m \u001b[38;5;28;01mimport\u001b[39;00m keras\n\u001b[1;32m----> 4\u001b[0m \u001b[38;5;28;01mimport\u001b[39;00m \u001b[38;5;21;01mmatplotlib\u001b[39;00m\u001b[38;5;21;01m.\u001b[39;00m\u001b[38;5;21;01mpyplot\u001b[39;00m \u001b[38;5;28;01mas\u001b[39;00m \u001b[38;5;21;01mplt\u001b[39;00m\n\u001b[0;32m      5\u001b[0m get_ipython()\u001b[38;5;241m.\u001b[39mrun_line_magic(\u001b[38;5;124m'\u001b[39m\u001b[38;5;124mmatplotlib\u001b[39m\u001b[38;5;124m'\u001b[39m, \u001b[38;5;124m'\u001b[39m\u001b[38;5;124minline\u001b[39m\u001b[38;5;124m'\u001b[39m)\n\u001b[0;32m      6\u001b[0m \u001b[38;5;28;01mimport\u001b[39;00m \u001b[38;5;21;01mnumpy\u001b[39;00m \u001b[38;5;28;01mas\u001b[39;00m \u001b[38;5;21;01mnp\u001b[39;00m\n",
      "\u001b[1;31mModuleNotFoundError\u001b[0m: No module named 'matplotlib'"
     ]
    }
   ],
   "source": [
    "import tensorflow as tf\n",
    "import tensorflow_hub as hub\n",
    "from tensorflow import keras\n",
    "import matplotlib.pyplot as plt\n",
    "%matplotlib inline\n",
    "import numpy as np\n",
    "import cv2 as cv\n",
    "import random\n",
    "import math\n",
    "import os"
   ]
  },
  {
   "cell_type": "markdown",
   "metadata": {},
   "source": [
    "Testing if jupyter notebook is running on GPU"
   ]
  },
  {
   "cell_type": "code",
   "execution_count": 2,
   "metadata": {},
   "outputs": [
    {
     "name": "stdout",
     "output_type": "stream",
     "text": [
      "Num GPUs available:  0\n"
     ]
    }
   ],
   "source": [
    "print(\"Num GPUs available: \", len(tf.config.experimental.list_physical_devices('GPU')))"
   ]
  },
  {
   "cell_type": "code",
   "execution_count": 3,
   "metadata": {},
   "outputs": [
    {
     "data": {
      "text/plain": [
       "True"
      ]
     },
     "execution_count": 3,
     "metadata": {},
     "output_type": "execute_result"
    }
   ],
   "source": [
    "tf.test.is_built_with_cuda()"
   ]
  },
  {
   "cell_type": "code",
   "execution_count": 13,
   "metadata": {},
   "outputs": [
    {
     "name": "stdout",
     "output_type": "stream",
     "text": [
      "2.8.0\n"
     ]
    }
   ],
   "source": [
    "print(tf.version.VERSION)"
   ]
  },
  {
   "cell_type": "code",
   "execution_count": 14,
   "metadata": {},
   "outputs": [
    {
     "data": {
      "text/plain": [
       "'3.9.7 (default, Sep 16 2021, 16:59:28) [MSC v.1916 64 bit (AMD64)]'"
      ]
     },
     "execution_count": 14,
     "metadata": {},
     "output_type": "execute_result"
    }
   ],
   "source": [
    "import sys\n",
    "sys.version"
   ]
  },
  {
   "cell_type": "markdown",
   "metadata": {},
   "source": [
    "**Extraire les images de la dataset**"
   ]
  },
  {
   "cell_type": "code",
   "execution_count": 3,
   "metadata": {
    "id": "4-EwXYfr0q67"
   },
   "outputs": [
    {
     "name": "stdout",
     "output_type": "stream",
     "text": [
      "Found 28709 files belonging to 7 classes.\n",
      "Found 7178 files belonging to 7 classes.\n"
     ]
    }
   ],
   "source": [
    "train_directory=\"C:/Users/ASUS/Desktop/train\"\n",
    "test_directory=\"C:/Users/ASUS/Desktop/test\"\n",
    "\n",
    "X_train=tf.keras.preprocessing.image_dataset_from_directory(train_directory, labels='inferred',image_size=(224, 224))\n",
    "X_test=tf.keras.preprocessing.image_dataset_from_directory(test_directory, labels='inferred',image_size=(48, 48))\n",
    "\n",
    "normalization_layer = tf.keras.layers.Rescaling(1./255)\n",
    "X_train = X_train.map(lambda x, y: (normalization_layer(x), y)) \n",
    "X_test = X_test.map(lambda x, y: (normalization_layer(x), y)) \n",
    "normalization_layer=[]\n",
    "AUTOTUNE = tf.data.AUTOTUNE\n",
    "X_train = X_train.cache().prefetch(buffer_size=AUTOTUNE)\n",
    "X_test = X_test.cache().prefetch(buffer_size=AUTOTUNE)\n",
    "\n",
    "train_directory=[]"
   ]
  },
  {
   "cell_type": "code",
   "execution_count": 4,
   "metadata": {
    "colab": {
     "base_uri": "https://localhost:8080/"
    },
    "id": "w8tTNPxw1N2P",
    "outputId": "fcee1405-bedd-4608-878b-454b708e0adb"
   },
   "outputs": [
    {
     "name": "stdout",
     "output_type": "stream",
     "text": [
      "Downloading data from https://storage.googleapis.com/tensorflow/keras-applications/mobilenet_v2/mobilenet_v2_weights_tf_dim_ordering_tf_kernels_1.0_224_no_top.h5\n",
      "9412608/9406464 [==============================] - 28s 3us/step\n",
      "9420800/9406464 [==============================] - 28s 3us/step\n"
     ]
    }
   ],
   "source": [
    "IMG_SHAPE =(224, 224, 3)\n",
    "base_model = tf.keras.applications.MobileNetV2(input_shape=IMG_SHAPE, include_top=False,weights='imagenet')\n",
    "global_average_layer = tf.keras.layers.GlobalAveragePooling2D()(base_model.layers[-1].output)\n",
    "final_output = tf.keras.layers.Dense(128,activation='relu')(global_average_layer)\n",
    "final_output = tf.keras.layers.Dense(64,activation='relu')(final_output)\n",
    "model_output = tf.keras.layers.Dense(7, activation='softmax')(final_output)\n",
    "model_input = base_model.input\n",
    "model = tf.keras.Model(inputs=model_input, outputs=model_output)"
   ]
  },
  {
   "cell_type": "markdown",
   "metadata": {},
   "source": [
    "**Entrainnement**"
   ]
  },
  {
   "cell_type": "code",
   "execution_count": null,
   "metadata": {
    "colab": {
     "base_uri": "https://localhost:8080/"
    },
    "id": "94Z8Ckhw1ZMo",
    "outputId": "972b1dd6-688f-40b9-a0ea-230d626a342f"
   },
   "outputs": [
    {
     "name": "stdout",
     "output_type": "stream",
     "text": [
      "Epoch 1/30\n",
      " 15/898 [..............................] - ETA: 1:09:09 - loss: 1.8186 - acc: 0.2958"
     ]
    }
   ],
   "source": [
    "model.compile(\n",
    "    optimizer=\"adam\",\n",
    "    loss='sparse_categorical_crossentropy',\n",
    "    metrics=['acc'])\n",
    "\n",
    "history = model.fit(X_train, \n",
    "                    epochs=30,\n",
    "                    )"
   ]
  },
  {
   "cell_type": "markdown",
   "metadata": {},
   "source": [
    "**Evaluation du model**"
   ]
  },
  {
   "cell_type": "code",
   "execution_count": null,
   "metadata": {
    "id": "UKLdz7kf1kOB"
   },
   "outputs": [],
   "source": [
    "model.evaluate(X_test)"
   ]
  },
  {
   "cell_type": "markdown",
   "metadata": {},
   "source": [
    "**Dessiner la courbe de train epochs/acc**"
   ]
  },
  {
   "cell_type": "code",
   "execution_count": null,
   "metadata": {
    "colab": {
     "base_uri": "https://localhost:8080/",
     "height": 312
    },
    "id": "XQxK_gXowKJ8",
    "outputId": "deb5d6d3-38ad-4c2b-9456-3a9e537d7e38"
   },
   "outputs": [],
   "source": [
    "import matplotlib.pyplot as plt\n",
    "print(history.history.keys())\n",
    "hist = history.history\n",
    "plt.plot(hist[\"acc\"])\n",
    "plt.title(\"Accuracy plot\")\n",
    "plt.legend([\"train\"])\n",
    "plt.xlabel(\"epoch\")\n",
    "plt.ylabel(\"accuracy\")\n",
    "plt.savefig(\"C:/Users/ASUS/Desktop/mobilenetv2_accuracy_e30_095.png\")"
   ]
  },
  {
   "cell_type": "markdown",
   "metadata": {},
   "source": [
    "**Sauvgarder le model**"
   ]
  },
  {
   "cell_type": "code",
   "execution_count": null,
   "metadata": {
    "id": "EVt_kuIM1vhp"
   },
   "outputs": [],
   "source": [
    "model.save('C:/Users/ASUS/Desktop/myModel_mobilenetv2_30_095.h5')"
   ]
  },
  {
   "cell_type": "markdown",
   "metadata": {
    "id": "GjTOfD7FQE6u"
   },
   "source": [
    "**Charger le model**"
   ]
  },
  {
   "cell_type": "code",
   "execution_count": null,
   "metadata": {
    "colab": {
     "base_uri": "https://localhost:8080/"
    },
    "id": "k2_ZbWn7eBAw",
    "outputId": "1ab36deb-05f0-4ef9-e2bf-4b59fc0ca6c3"
   },
   "outputs": [],
   "source": [
    "model = tf.keras.models.load_model('C:/Users/ASUS/Desktop/myModel_1.h5',custom_objects={'KerasLayer':hub.KerasLayer})\n",
    "model.summary()"
   ]
  },
  {
   "cell_type": "markdown",
   "metadata": {
    "id": "6vUgB3IVRsWc"
   },
   "source": [
    "**Activer la camera**"
   ]
  },
  {
   "cell_type": "code",
   "execution_count": null,
   "metadata": {
    "id": "0OviGhjzeXE5"
   },
   "outputs": [],
   "source": [
    "emotions=['angry', 'disgust', 'fear', 'happy', 'neutral', 'sad', 'surprise']\n",
    "cap=cv.VideoCapture(0)\n",
    "cap.set(3,640)\n",
    "cap.set(4,480)\n",
    "cap.set(10,100)\n",
    "while True:\n",
    "    suc,img = cap.read()\n",
    "    \n",
    "    # rgb to grayscale\n",
    "    gray_img = cv.cvtColor(img, cv.COLOR_BGR2GRAY)\n",
    "\n",
    "    # appel haar-cascade \n",
    "    haar_cascade = cv.CascadeClassifier('.../.../haarcascade_frontalface_default.xml')\n",
    "\n",
    "    # appliquer haar_cascade sur gray img\n",
    "    faces_rect = haar_cascade.detectMultiScale(gray_img, 1.1, 9)\n",
    "\n",
    "    # dessiner un rects sur le visage\n",
    "    for (x, y, w, h) in faces_rect:\n",
    "        cv.rectangle(img, (x, y), (x+w, y+h), (0, 255, 0), 2)\n",
    "    try:\n",
    "        face=cv.resize(img[y:y+h,x:x+w],(224,224))\n",
    "        result = model.predict(face[np.newaxis, ...])\n",
    "        cv.putText(img, emotions[np.argmax(result)], (x, y-10), cv.FONT_HERSHEY_SIMPLEX, 0.7, (0,0,255), 1,cv.LINE_AA)\n",
    "\n",
    "    except:\n",
    "        pass\n",
    "    cv.imshow(\"emotion detector\",img)\n",
    "    \n",
    "    if cv.waitKey(1)==ord('q'):\n",
    "        break"
   ]
  }
 ],
 "metadata": {
  "accelerator": "GPU",
  "colab": {
   "collapsed_sections": [],
   "name": "emotions_detector_test.ipynb",
   "provenance": []
  },
  "kernelspec": {
   "display_name": "Python 3 (ipykernel)",
   "language": "python",
   "name": "python3"
  },
  "language_info": {
   "codemirror_mode": {
    "name": "ipython",
    "version": 3
   },
   "file_extension": ".py",
   "mimetype": "text/x-python",
   "name": "python",
   "nbconvert_exporter": "python",
   "pygments_lexer": "ipython3",
   "version": "3.9.12"
  }
 },
 "nbformat": 4,
 "nbformat_minor": 1
}
